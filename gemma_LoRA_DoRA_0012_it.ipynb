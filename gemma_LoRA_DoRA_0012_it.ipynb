{
  "nbformat": 4,
  "nbformat_minor": 0,
  "metadata": {
    "colab": {
      "provenance": [],
      "gpuType": "T4"
    },
    "kernelspec": {
      "name": "python3",
      "display_name": "Python 3"
    },
    "language_info": {
      "name": "python"
    },
    "accelerator": "GPU",
    "widgets": {
      "application/vnd.jupyter.widget-state+json": {
        "62b11f64e6e649c2ab4991d85f9101e6": {
          "model_module": "@jupyter-widgets/controls",
          "model_name": "HBoxModel",
          "model_module_version": "1.5.0",
          "state": {
            "_dom_classes": [],
            "_model_module": "@jupyter-widgets/controls",
            "_model_module_version": "1.5.0",
            "_model_name": "HBoxModel",
            "_view_count": null,
            "_view_module": "@jupyter-widgets/controls",
            "_view_module_version": "1.5.0",
            "_view_name": "HBoxView",
            "box_style": "",
            "children": [
              "IPY_MODEL_30df1135ef4241c3ab8663f25c28fa12",
              "IPY_MODEL_8bca975253774828af97b82b98a60404",
              "IPY_MODEL_c071de1b12ee423bb3593fd153cc7aac"
            ],
            "layout": "IPY_MODEL_42a5f4ebaba045f0bd5e60dfeef85107"
          }
        },
        "30df1135ef4241c3ab8663f25c28fa12": {
          "model_module": "@jupyter-widgets/controls",
          "model_name": "HTMLModel",
          "model_module_version": "1.5.0",
          "state": {
            "_dom_classes": [],
            "_model_module": "@jupyter-widgets/controls",
            "_model_module_version": "1.5.0",
            "_model_name": "HTMLModel",
            "_view_count": null,
            "_view_module": "@jupyter-widgets/controls",
            "_view_module_version": "1.5.0",
            "_view_name": "HTMLView",
            "description": "",
            "description_tooltip": null,
            "layout": "IPY_MODEL_947c961472f44561b6b104297dbf32ec",
            "placeholder": "​",
            "style": "IPY_MODEL_659db86fc1b84da7b1feb120525342c6",
            "value": "adapter_model.safetensors: 100%"
          }
        },
        "8bca975253774828af97b82b98a60404": {
          "model_module": "@jupyter-widgets/controls",
          "model_name": "FloatProgressModel",
          "model_module_version": "1.5.0",
          "state": {
            "_dom_classes": [],
            "_model_module": "@jupyter-widgets/controls",
            "_model_module_version": "1.5.0",
            "_model_name": "FloatProgressModel",
            "_view_count": null,
            "_view_module": "@jupyter-widgets/controls",
            "_view_module_version": "1.5.0",
            "_view_name": "ProgressView",
            "bar_style": "success",
            "description": "",
            "description_tooltip": null,
            "layout": "IPY_MODEL_291977e1cfb045799a4c241a76304991",
            "max": 9615896,
            "min": 0,
            "orientation": "horizontal",
            "style": "IPY_MODEL_946c9e382a96486882f0f3fdb7a98e38",
            "value": 9615896
          }
        },
        "c071de1b12ee423bb3593fd153cc7aac": {
          "model_module": "@jupyter-widgets/controls",
          "model_name": "HTMLModel",
          "model_module_version": "1.5.0",
          "state": {
            "_dom_classes": [],
            "_model_module": "@jupyter-widgets/controls",
            "_model_module_version": "1.5.0",
            "_model_name": "HTMLModel",
            "_view_count": null,
            "_view_module": "@jupyter-widgets/controls",
            "_view_module_version": "1.5.0",
            "_view_name": "HTMLView",
            "description": "",
            "description_tooltip": null,
            "layout": "IPY_MODEL_9f56d421c6d644f48f8103848d0fd7fc",
            "placeholder": "​",
            "style": "IPY_MODEL_2a27304c77d04090b8eb53ee00bb99cf",
            "value": " 9.62M/9.62M [00:02&lt;00:00, 8.10MB/s]"
          }
        },
        "42a5f4ebaba045f0bd5e60dfeef85107": {
          "model_module": "@jupyter-widgets/base",
          "model_name": "LayoutModel",
          "model_module_version": "1.2.0",
          "state": {
            "_model_module": "@jupyter-widgets/base",
            "_model_module_version": "1.2.0",
            "_model_name": "LayoutModel",
            "_view_count": null,
            "_view_module": "@jupyter-widgets/base",
            "_view_module_version": "1.2.0",
            "_view_name": "LayoutView",
            "align_content": null,
            "align_items": null,
            "align_self": null,
            "border": null,
            "bottom": null,
            "display": null,
            "flex": null,
            "flex_flow": null,
            "grid_area": null,
            "grid_auto_columns": null,
            "grid_auto_flow": null,
            "grid_auto_rows": null,
            "grid_column": null,
            "grid_gap": null,
            "grid_row": null,
            "grid_template_areas": null,
            "grid_template_columns": null,
            "grid_template_rows": null,
            "height": null,
            "justify_content": null,
            "justify_items": null,
            "left": null,
            "margin": null,
            "max_height": null,
            "max_width": null,
            "min_height": null,
            "min_width": null,
            "object_fit": null,
            "object_position": null,
            "order": null,
            "overflow": null,
            "overflow_x": null,
            "overflow_y": null,
            "padding": null,
            "right": null,
            "top": null,
            "visibility": null,
            "width": null
          }
        },
        "947c961472f44561b6b104297dbf32ec": {
          "model_module": "@jupyter-widgets/base",
          "model_name": "LayoutModel",
          "model_module_version": "1.2.0",
          "state": {
            "_model_module": "@jupyter-widgets/base",
            "_model_module_version": "1.2.0",
            "_model_name": "LayoutModel",
            "_view_count": null,
            "_view_module": "@jupyter-widgets/base",
            "_view_module_version": "1.2.0",
            "_view_name": "LayoutView",
            "align_content": null,
            "align_items": null,
            "align_self": null,
            "border": null,
            "bottom": null,
            "display": null,
            "flex": null,
            "flex_flow": null,
            "grid_area": null,
            "grid_auto_columns": null,
            "grid_auto_flow": null,
            "grid_auto_rows": null,
            "grid_column": null,
            "grid_gap": null,
            "grid_row": null,
            "grid_template_areas": null,
            "grid_template_columns": null,
            "grid_template_rows": null,
            "height": null,
            "justify_content": null,
            "justify_items": null,
            "left": null,
            "margin": null,
            "max_height": null,
            "max_width": null,
            "min_height": null,
            "min_width": null,
            "object_fit": null,
            "object_position": null,
            "order": null,
            "overflow": null,
            "overflow_x": null,
            "overflow_y": null,
            "padding": null,
            "right": null,
            "top": null,
            "visibility": null,
            "width": null
          }
        },
        "659db86fc1b84da7b1feb120525342c6": {
          "model_module": "@jupyter-widgets/controls",
          "model_name": "DescriptionStyleModel",
          "model_module_version": "1.5.0",
          "state": {
            "_model_module": "@jupyter-widgets/controls",
            "_model_module_version": "1.5.0",
            "_model_name": "DescriptionStyleModel",
            "_view_count": null,
            "_view_module": "@jupyter-widgets/base",
            "_view_module_version": "1.2.0",
            "_view_name": "StyleView",
            "description_width": ""
          }
        },
        "291977e1cfb045799a4c241a76304991": {
          "model_module": "@jupyter-widgets/base",
          "model_name": "LayoutModel",
          "model_module_version": "1.2.0",
          "state": {
            "_model_module": "@jupyter-widgets/base",
            "_model_module_version": "1.2.0",
            "_model_name": "LayoutModel",
            "_view_count": null,
            "_view_module": "@jupyter-widgets/base",
            "_view_module_version": "1.2.0",
            "_view_name": "LayoutView",
            "align_content": null,
            "align_items": null,
            "align_self": null,
            "border": null,
            "bottom": null,
            "display": null,
            "flex": null,
            "flex_flow": null,
            "grid_area": null,
            "grid_auto_columns": null,
            "grid_auto_flow": null,
            "grid_auto_rows": null,
            "grid_column": null,
            "grid_gap": null,
            "grid_row": null,
            "grid_template_areas": null,
            "grid_template_columns": null,
            "grid_template_rows": null,
            "height": null,
            "justify_content": null,
            "justify_items": null,
            "left": null,
            "margin": null,
            "max_height": null,
            "max_width": null,
            "min_height": null,
            "min_width": null,
            "object_fit": null,
            "object_position": null,
            "order": null,
            "overflow": null,
            "overflow_x": null,
            "overflow_y": null,
            "padding": null,
            "right": null,
            "top": null,
            "visibility": null,
            "width": null
          }
        },
        "946c9e382a96486882f0f3fdb7a98e38": {
          "model_module": "@jupyter-widgets/controls",
          "model_name": "ProgressStyleModel",
          "model_module_version": "1.5.0",
          "state": {
            "_model_module": "@jupyter-widgets/controls",
            "_model_module_version": "1.5.0",
            "_model_name": "ProgressStyleModel",
            "_view_count": null,
            "_view_module": "@jupyter-widgets/base",
            "_view_module_version": "1.2.0",
            "_view_name": "StyleView",
            "bar_color": null,
            "description_width": ""
          }
        },
        "9f56d421c6d644f48f8103848d0fd7fc": {
          "model_module": "@jupyter-widgets/base",
          "model_name": "LayoutModel",
          "model_module_version": "1.2.0",
          "state": {
            "_model_module": "@jupyter-widgets/base",
            "_model_module_version": "1.2.0",
            "_model_name": "LayoutModel",
            "_view_count": null,
            "_view_module": "@jupyter-widgets/base",
            "_view_module_version": "1.2.0",
            "_view_name": "LayoutView",
            "align_content": null,
            "align_items": null,
            "align_self": null,
            "border": null,
            "bottom": null,
            "display": null,
            "flex": null,
            "flex_flow": null,
            "grid_area": null,
            "grid_auto_columns": null,
            "grid_auto_flow": null,
            "grid_auto_rows": null,
            "grid_column": null,
            "grid_gap": null,
            "grid_row": null,
            "grid_template_areas": null,
            "grid_template_columns": null,
            "grid_template_rows": null,
            "height": null,
            "justify_content": null,
            "justify_items": null,
            "left": null,
            "margin": null,
            "max_height": null,
            "max_width": null,
            "min_height": null,
            "min_width": null,
            "object_fit": null,
            "object_position": null,
            "order": null,
            "overflow": null,
            "overflow_x": null,
            "overflow_y": null,
            "padding": null,
            "right": null,
            "top": null,
            "visibility": null,
            "width": null
          }
        },
        "2a27304c77d04090b8eb53ee00bb99cf": {
          "model_module": "@jupyter-widgets/controls",
          "model_name": "DescriptionStyleModel",
          "model_module_version": "1.5.0",
          "state": {
            "_model_module": "@jupyter-widgets/controls",
            "_model_module_version": "1.5.0",
            "_model_name": "DescriptionStyleModel",
            "_view_count": null,
            "_view_module": "@jupyter-widgets/base",
            "_view_module_version": "1.2.0",
            "_view_name": "StyleView",
            "description_width": ""
          }
        },
        "106c83a7d1964dba88e496be5858b13e": {
          "model_module": "@jupyter-widgets/controls",
          "model_name": "HBoxModel",
          "model_module_version": "1.5.0",
          "state": {
            "_dom_classes": [],
            "_model_module": "@jupyter-widgets/controls",
            "_model_module_version": "1.5.0",
            "_model_name": "HBoxModel",
            "_view_count": null,
            "_view_module": "@jupyter-widgets/controls",
            "_view_module_version": "1.5.0",
            "_view_name": "HBoxView",
            "box_style": "",
            "children": [
              "IPY_MODEL_c0884bbe0cf34d11952d9c4a01ee56f0",
              "IPY_MODEL_419dba07593a48379222d37522f2978e",
              "IPY_MODEL_708b663584894f28821d14adb1bd4469"
            ],
            "layout": "IPY_MODEL_fa5d883be0d94ad88afb294fcfd232ae"
          }
        },
        "c0884bbe0cf34d11952d9c4a01ee56f0": {
          "model_module": "@jupyter-widgets/controls",
          "model_name": "HTMLModel",
          "model_module_version": "1.5.0",
          "state": {
            "_dom_classes": [],
            "_model_module": "@jupyter-widgets/controls",
            "_model_module_version": "1.5.0",
            "_model_name": "HTMLModel",
            "_view_count": null,
            "_view_module": "@jupyter-widgets/controls",
            "_view_module_version": "1.5.0",
            "_view_name": "HTMLView",
            "description": "",
            "description_tooltip": null,
            "layout": "IPY_MODEL_86bcc99c6a044b4382d277faf2d6f66e",
            "placeholder": "​",
            "style": "IPY_MODEL_5bbcb0f053b646da9e4cd7f9196f8d95",
            "value": "Loading checkpoint shards: 100%"
          }
        },
        "419dba07593a48379222d37522f2978e": {
          "model_module": "@jupyter-widgets/controls",
          "model_name": "FloatProgressModel",
          "model_module_version": "1.5.0",
          "state": {
            "_dom_classes": [],
            "_model_module": "@jupyter-widgets/controls",
            "_model_module_version": "1.5.0",
            "_model_name": "FloatProgressModel",
            "_view_count": null,
            "_view_module": "@jupyter-widgets/controls",
            "_view_module_version": "1.5.0",
            "_view_name": "ProgressView",
            "bar_style": "success",
            "description": "",
            "description_tooltip": null,
            "layout": "IPY_MODEL_0a993fa50f8f4b26a3402fc4937c87c0",
            "max": 2,
            "min": 0,
            "orientation": "horizontal",
            "style": "IPY_MODEL_74e9368dfc704ff7979179a2d83ed6fb",
            "value": 2
          }
        },
        "708b663584894f28821d14adb1bd4469": {
          "model_module": "@jupyter-widgets/controls",
          "model_name": "HTMLModel",
          "model_module_version": "1.5.0",
          "state": {
            "_dom_classes": [],
            "_model_module": "@jupyter-widgets/controls",
            "_model_module_version": "1.5.0",
            "_model_name": "HTMLModel",
            "_view_count": null,
            "_view_module": "@jupyter-widgets/controls",
            "_view_module_version": "1.5.0",
            "_view_name": "HTMLView",
            "description": "",
            "description_tooltip": null,
            "layout": "IPY_MODEL_579446e12ef34baf95ba20fb5aeba787",
            "placeholder": "​",
            "style": "IPY_MODEL_eaf572cd0a254880a3b00f5ba1041379",
            "value": " 2/2 [00:23&lt;00:00,  9.94s/it]"
          }
        },
        "fa5d883be0d94ad88afb294fcfd232ae": {
          "model_module": "@jupyter-widgets/base",
          "model_name": "LayoutModel",
          "model_module_version": "1.2.0",
          "state": {
            "_model_module": "@jupyter-widgets/base",
            "_model_module_version": "1.2.0",
            "_model_name": "LayoutModel",
            "_view_count": null,
            "_view_module": "@jupyter-widgets/base",
            "_view_module_version": "1.2.0",
            "_view_name": "LayoutView",
            "align_content": null,
            "align_items": null,
            "align_self": null,
            "border": null,
            "bottom": null,
            "display": null,
            "flex": null,
            "flex_flow": null,
            "grid_area": null,
            "grid_auto_columns": null,
            "grid_auto_flow": null,
            "grid_auto_rows": null,
            "grid_column": null,
            "grid_gap": null,
            "grid_row": null,
            "grid_template_areas": null,
            "grid_template_columns": null,
            "grid_template_rows": null,
            "height": null,
            "justify_content": null,
            "justify_items": null,
            "left": null,
            "margin": null,
            "max_height": null,
            "max_width": null,
            "min_height": null,
            "min_width": null,
            "object_fit": null,
            "object_position": null,
            "order": null,
            "overflow": null,
            "overflow_x": null,
            "overflow_y": null,
            "padding": null,
            "right": null,
            "top": null,
            "visibility": null,
            "width": null
          }
        },
        "86bcc99c6a044b4382d277faf2d6f66e": {
          "model_module": "@jupyter-widgets/base",
          "model_name": "LayoutModel",
          "model_module_version": "1.2.0",
          "state": {
            "_model_module": "@jupyter-widgets/base",
            "_model_module_version": "1.2.0",
            "_model_name": "LayoutModel",
            "_view_count": null,
            "_view_module": "@jupyter-widgets/base",
            "_view_module_version": "1.2.0",
            "_view_name": "LayoutView",
            "align_content": null,
            "align_items": null,
            "align_self": null,
            "border": null,
            "bottom": null,
            "display": null,
            "flex": null,
            "flex_flow": null,
            "grid_area": null,
            "grid_auto_columns": null,
            "grid_auto_flow": null,
            "grid_auto_rows": null,
            "grid_column": null,
            "grid_gap": null,
            "grid_row": null,
            "grid_template_areas": null,
            "grid_template_columns": null,
            "grid_template_rows": null,
            "height": null,
            "justify_content": null,
            "justify_items": null,
            "left": null,
            "margin": null,
            "max_height": null,
            "max_width": null,
            "min_height": null,
            "min_width": null,
            "object_fit": null,
            "object_position": null,
            "order": null,
            "overflow": null,
            "overflow_x": null,
            "overflow_y": null,
            "padding": null,
            "right": null,
            "top": null,
            "visibility": null,
            "width": null
          }
        },
        "5bbcb0f053b646da9e4cd7f9196f8d95": {
          "model_module": "@jupyter-widgets/controls",
          "model_name": "DescriptionStyleModel",
          "model_module_version": "1.5.0",
          "state": {
            "_model_module": "@jupyter-widgets/controls",
            "_model_module_version": "1.5.0",
            "_model_name": "DescriptionStyleModel",
            "_view_count": null,
            "_view_module": "@jupyter-widgets/base",
            "_view_module_version": "1.2.0",
            "_view_name": "StyleView",
            "description_width": ""
          }
        },
        "0a993fa50f8f4b26a3402fc4937c87c0": {
          "model_module": "@jupyter-widgets/base",
          "model_name": "LayoutModel",
          "model_module_version": "1.2.0",
          "state": {
            "_model_module": "@jupyter-widgets/base",
            "_model_module_version": "1.2.0",
            "_model_name": "LayoutModel",
            "_view_count": null,
            "_view_module": "@jupyter-widgets/base",
            "_view_module_version": "1.2.0",
            "_view_name": "LayoutView",
            "align_content": null,
            "align_items": null,
            "align_self": null,
            "border": null,
            "bottom": null,
            "display": null,
            "flex": null,
            "flex_flow": null,
            "grid_area": null,
            "grid_auto_columns": null,
            "grid_auto_flow": null,
            "grid_auto_rows": null,
            "grid_column": null,
            "grid_gap": null,
            "grid_row": null,
            "grid_template_areas": null,
            "grid_template_columns": null,
            "grid_template_rows": null,
            "height": null,
            "justify_content": null,
            "justify_items": null,
            "left": null,
            "margin": null,
            "max_height": null,
            "max_width": null,
            "min_height": null,
            "min_width": null,
            "object_fit": null,
            "object_position": null,
            "order": null,
            "overflow": null,
            "overflow_x": null,
            "overflow_y": null,
            "padding": null,
            "right": null,
            "top": null,
            "visibility": null,
            "width": null
          }
        },
        "74e9368dfc704ff7979179a2d83ed6fb": {
          "model_module": "@jupyter-widgets/controls",
          "model_name": "ProgressStyleModel",
          "model_module_version": "1.5.0",
          "state": {
            "_model_module": "@jupyter-widgets/controls",
            "_model_module_version": "1.5.0",
            "_model_name": "ProgressStyleModel",
            "_view_count": null,
            "_view_module": "@jupyter-widgets/base",
            "_view_module_version": "1.2.0",
            "_view_name": "StyleView",
            "bar_color": null,
            "description_width": ""
          }
        },
        "579446e12ef34baf95ba20fb5aeba787": {
          "model_module": "@jupyter-widgets/base",
          "model_name": "LayoutModel",
          "model_module_version": "1.2.0",
          "state": {
            "_model_module": "@jupyter-widgets/base",
            "_model_module_version": "1.2.0",
            "_model_name": "LayoutModel",
            "_view_count": null,
            "_view_module": "@jupyter-widgets/base",
            "_view_module_version": "1.2.0",
            "_view_name": "LayoutView",
            "align_content": null,
            "align_items": null,
            "align_self": null,
            "border": null,
            "bottom": null,
            "display": null,
            "flex": null,
            "flex_flow": null,
            "grid_area": null,
            "grid_auto_columns": null,
            "grid_auto_flow": null,
            "grid_auto_rows": null,
            "grid_column": null,
            "grid_gap": null,
            "grid_row": null,
            "grid_template_areas": null,
            "grid_template_columns": null,
            "grid_template_rows": null,
            "height": null,
            "justify_content": null,
            "justify_items": null,
            "left": null,
            "margin": null,
            "max_height": null,
            "max_width": null,
            "min_height": null,
            "min_width": null,
            "object_fit": null,
            "object_position": null,
            "order": null,
            "overflow": null,
            "overflow_x": null,
            "overflow_y": null,
            "padding": null,
            "right": null,
            "top": null,
            "visibility": null,
            "width": null
          }
        },
        "eaf572cd0a254880a3b00f5ba1041379": {
          "model_module": "@jupyter-widgets/controls",
          "model_name": "DescriptionStyleModel",
          "model_module_version": "1.5.0",
          "state": {
            "_model_module": "@jupyter-widgets/controls",
            "_model_module_version": "1.5.0",
            "_model_name": "DescriptionStyleModel",
            "_view_count": null,
            "_view_module": "@jupyter-widgets/base",
            "_view_module_version": "1.2.0",
            "_view_name": "StyleView",
            "description_width": ""
          }
        }
      }
    }
  },
  "cells": [
    {
      "cell_type": "markdown",
      "source": [
        "# **Gemma-2 Fine-Tuning with LoRA and DoRA: A Practical plug and play Template**\n",
        "\n",
        "By David Thrower\n",
        "- https://github.com/david-thrower/\n",
        "- https://www.linkedin.com/in/david-thrower-%F0%9F%8C%BB-2972482a\n",
        "\n",
        "## **Overview:**\n",
        "\n",
        "This notebook provides a practical, simple case template for fine-tuning Gemma-2 models (2B, 9B, 27B) using the Weight-Decomposed Low-Rank Adaptation (DoRA) version of Low-Rank Adaptation (LoRA), on a free-tier Google Colab GPU.  This approach allows for efficient customization of Gemma-2 for specific tasks without the computational overhead of full fine-tuning. The basic concepts are discussed, but this notebook is meant to be a practical template for any developer at any level to be able to \"just plug and play\" without needing a PhD in math to do it.\n",
        "\n",
        "## **The Problem: \"Off The Shelf\" LLMs are great, but they are jacks of all trades and masters at none:**\n",
        "\n",
        "Gemma-2 offers impressive performance, especially for its size, excelling at code generation, complex question answering, and following nuanced instructions.  The quality of its writing, quality of the explainations it generates, and \"human - like\" writing style is also rather impressive. However, like other pre-trained LLMs, its performance an a niche task needs to be enhanced a bit, and that is where fine-tuning on task-specific data comes in.  Traditional fine-tuning is computationally expensive, involves thousands of dollars in compute resources, and leaves a gaping carbon footprint, making it impractical for many users.\n",
        "\n",
        "## **LoRA: A second Generation approach to Parameter-Efficient Fine-Tuning Solutions:**\n",
        "\n",
        "- LoRA addresses this challenge by freezing the pre-trained model weights, in other words, basically leaving the existing model as is, and training a small set of new weights that are added in parallel to some of the model's layers.\n",
        "    - **The benefit:** This drastically reduces the number of trainable parameters, enabling efficient fine-tuning on consumer-grade hardware. This provides almost as good accuracy as full fine tuning, and requires as little as 1% as many compute resources to accomplish.\n",
        "    - **The drawback we really want to avoid here:** The models that classic case LoRA produces is usually lower than that of full fine tuning.\n",
        "- **For advanced users:** these adapters are low rank matrices (adapter weights) injected along side specific layers, usually the query, key, and value feed forward layers.\n",
        "\n",
        "\n",
        "## **DoRA: A 3rd Generation approach to Parameter-Efficient Fine-Tuning Solutions that we will use here:**\n",
        "\n",
        "- Weight-Decomposed Low-Rank Adaptation (DoRA) builds upon LoRA by adding a matrix factorization that improves the accuracy without much additional computational expense. You don't really need to understand what is happening under the hood to use it. This template will is fairly robust and should work reasonably well on a lot of data sets.\n",
        "    - **The benefits:** Like conventional LoRA, we are leaving the model's original weights as - is and only training adapters that were added that account for less than 1% of the model's weights.\n",
        "    - **Unlike conventional LoRA, DoRA will often create models that are equally as accurate as those done by expensive full fine tuning**, and if not equally accurate, very close to it in most cases if done correctly and carefully optimized and on the right training data.\n",
        "- **For advanced users:\"\" What is happening is that DoRA incorporates orthogonal constraints on the adapter weights. This technique decomposes the updates of the weights into two parts, magnitude and direction. Direction is handled by normal LoRA, whereas the magnitude is handled by a separate learnable parameter. You can read more about it on the resources below, but to stay true to the scope of this notebook, to serve as a practical template and guide to arrive at a proof of concept or MVP custom LLM that can be refined later by advanced users if need be, we refer you to the paper and other academic materials rather than go deep into the details.\n",
        "    - https://arxiv.org/abs/2402.09353\n",
        "    - https://www.youtube.com/watch?v=J2WzLS9TggQ\n",
        "\n",
        "\n",
        "## **Why This Template?**\n",
        "\n",
        "* **Practical, Plug and Play:** If you don't understand the theory discussed here, no problem. If you understand the basics of Python and follow the instructions, this template can be easily used to fine tune your own custom LLM without any cost to you to do so. If you are a developer, you can use other tutorials to integrate the model you create into a chatbot UI like one of these to make a practical app.\n",
        "    * https://www.gradio.app/docs/gradio/chatinterface\n",
        "    * https://reflex.dev/docs/getting-started/chatapp-tutorial/  \n",
        "* **Free-Tier Colab Ready:** Designed to run efficiently on Google Colab's free T4 GPUs, making powerful LLM customization accessible to everyone.\n",
        "* **Scalable:** Easily adaptable for larger Gemma-2 models (9B, 27B) by simply changing the `model_name` and running in a suitable environment with more resources.\n",
        "* **Simple and Customizable:**  Provides a clear and concise code structure that can be easily modified for various tasks and datasets.\n",
        "\n",
        "\n",
        "## **Getting Started**\n",
        "\n",
        "1. **Hugging Face Account and Access Token:** Create a Hugging Face account if you don't have one and generate an access token.\n",
        "    1. Account Setup: If you don't already have one, head over to the Hugging Face website (https://huggingface.co/). Create a free account.\n",
        "    2. Token Creation: Click on the button to generate a new access token. Give it any name and select the following checkboxes to give it the required permissions under the **repositories** heading:\n",
        "        1. Read access to the repos under your personal namespace.\n",
        "        2. Read access to all gated public repos you have access to.\n",
        "        3. Write access to the repos under your personal namespace.\n",
        "        4. After this, click **create token** at the bottom of the page. Paste this into a text editor, but do not save it to a file. You will need it shortly. Treat this as you would a password.\n",
        "2. **Colab Setup:** Open this notebook in Google Colab and ensure a **T4 GPU** or higher is selected (The default model should run fine wiht the free T4.).\n",
        "    1. Under **\"Runtime\"** tab -click  **\"Change runtime type\"** then select **\"T4 GPU\"**.\n",
        "3. **Access Token Secret:** In Colab, to the left of this notebook there should be a **key icon**. Click it. Click **create new secret**. Name it `ACCESS_TOKEN_HF`, use this exact name with the same uppercase and underscores. Paste your Hugging Face access token as its value, and switch the toggle switch to save it. This protects your token and passes it to the notebook so the code has access to the required resources on Huggingface.\n",
        "4. **Customize the Training Data: (Optional: You can run this notebook as is, and see this toy example run and work, but it is easy to make your own data set to solve a real problem you want to solve with a customized chatbot / LLM)**  Modify the `train_data` list to include your own dataset. Follow the provided format: `{'input': 'Your prompt or question', 'output': 'Desired LLM / chatbot response to that prompt or question'}`. Each training example is a Python dictionary that shows an example of a user prompt and a chatbot response to that prompt.\n",
        "    1.   The value associated with the \"input\" key should be an example of a prompt or a question that a user may want to ask the chatbot.\n",
        "    2. The value associated with the \"output\" should be an example of a response you would expect the chatbot to write if someone asked the chatbot that prompt or question.\n",
        "    3. Most likely, examples of prompts and responses will consist of multiple - lines of text. No problem. Just replace the line wrapping with `\\n`, so each example can be on one line and a chatbot UI will know that this means to wrap the text as a new line.\n",
        "    4. Ensure you have a sufficient amount of data for effective fine-tuning. A few hundred to a few thousand examples is recommended for ideal results, but we don't always have thet much, and that is OK. As little as 50 examples may be of some benefit, but the more examples you have, the more effective your custom chatbot will be at being true to the task you are training it to do. Use as much data as you can find and have the time to load. The vanilla example we ran only has about 100 examples, and as you can see in the results of running this, it was successful at modifying the model's behavior. Keep in mind that the more complex the instructions you want the model to be able to follow, the more exapmples it will need to be effective at the task you have in mind. Just make sure the samples follow the format:\n",
        "        1. `{'input':`\n",
        "        2.  **\"then a the example prompt or question in quotation marks\"**\n",
        "        3. then a comma `,`\n",
        "        4. then 'output:'\n",
        "        5. **\"then an example of a good response to that prompt or question in quotation marks\"**\n",
        "        6. then `}`\n",
        "        7. Each example separated by commas within the `train_data = [...]` For example:\n",
        "        ```python\n",
        "        # Make sure the samples are nested in the [] after \"train_data=\"\n",
        "        train_data = [\n",
        "             # First example\n",
        "             { # Start the example with a {\n",
        "                  'input': \"Write something to cheer someone up\", # Don't forget the comma  \n",
        "              'output':\"Don't worry. Be happy!\"\n",
        "              }, # Separate examples with a second comma\n",
        "             # Second example\n",
        "             {'input': \"Tell me something that may make someone nervous\", 'output': \"Did you hear about the storms that may be coming today?\"},\n",
        "             # And a third example:\n",
        "             {'input': \"Say something happy\", 'output': 'The sky is blue and the water is clear and warm. Dive right on in with us!'} # , ... add as many as you can\n",
        "        ]\n",
        "        \n",
        "        ```\n",
        "    6. **For advanced users: (optional to read, optional to understand):** This automatically reformats the simple dictionary of example inputs and outputs into the format: `<bos><beginning_of_turn>user\\n\\n[user's prompt]<end_of_turn>\\n\\n<beginning_of_turn>model\\n\\n[intended chatbot response]<end_of_turn><eos>`.\n",
        "        1. `<bos>` means \"beginning of sample\".\n",
        "        2. `<eos>` means \"end of sample\".\n",
        "        3. `<beginning_of_turn>user\\n\\n` means \"What is started on the next line is an example of a user prompt\"\n",
        "        4. `<beginning_of_turn>model\\n\\n` \"What is started on the next line is an example of a chatbot response\"\n",
        "        4. `<end_of_turn>` means end of `[user prompt | chatbot response]`\n",
        "    7. **For advanced users: (optional to read, optional to understand):**  Note that you can modify this to allow for more complex conversation examples where one example has multiple iterations of `<beginning_of_turn>user\\n\\n[user prompt example]\\n\\n<end_of_turn>\\n\\n<beginning_of_turn>model [example initial response]\\n\\n<end_of_turn>\\n\\n<beginning_of_turn>user\\n\\n [example follow - up prompt or question]\\n\\n<end_of_turn>n\\n<beginning_of_turn>model\\n\\n [example response to the follow - up question]`. If you are going to train on more complex you may need to skip the step that translates the simple `{'input':'foo', \"output\":bar}` dictionaries into the formatted training data and either manually format the data accordingly or modify the code that parses and formats the training samples to accomodate however many iterations of follow - up questions you plan to include.  \n",
        "5. **Model Selection: (Optional, recommended for advanced use cases where the instructions the custom chatbot is handling are complex)** Adjust the `model_name` variable if you want to use a different Gemma-2 model (e.g., \"google/gemma-2-9b-it\", and \"google/gemma-2-27b-it\" are the larger models that perform even better).  Remember that if you want to use a larger model, you will probably need to pay for a paid tier GPU. For most simple tasks, the free tier should work just fine with the default model of \"google/gemma-2-2b-it.\n",
        "6. **Run the Notebook:** Execute the code cells to fine-tune your model once you have customized the training data set.\n",
        "7. **Deployment:** After training, save and commit your LoRA adapter to Hugging Face.  You can then deploy it as a REST API endpoint and integrate it with your preferred chatbot frontend or application."
      ],
      "metadata": {
        "id": "r61VC9mgdJBO"
      }
    },
    {
      "cell_type": "code",
      "source": [
        "! pip list | grep bitsandbytes"
      ],
      "metadata": {
        "colab": {
          "base_uri": "https://localhost:8080/"
        },
        "id": "-Pm1oRAxA7_9",
        "outputId": "2c9acfc3-76be-4e84-f0f8-5c3717981a79"
      },
      "execution_count": 49,
      "outputs": [
        {
          "output_type": "stream",
          "name": "stdout",
          "text": [
            "bitsandbytes                       0.45.0\n"
          ]
        }
      ]
    },
    {
      "cell_type": "markdown",
      "source": [
        "## Important:\n",
        "\n",
        "### **If the response for the cell above was blank**, we need to install one more Python package.\n",
        "\n",
        "### If if does not print out something like this, then we need to install bitsandbytes:\n",
        "\n",
        "`bitsandbytes                       0.45.0\n",
        "`\n",
        "- **If and only if** this was blank, see the cell below, and un-comment out the line `! pip install bitsandbytes`.\n",
        "- Run this cell\n",
        "- Then click **\"Runtime\"** -> **Restart runtime**\n",
        "- Then repeat the cell above. If it prints out the expected response, skip the cell below and proceed with the rest of the cells."
      ],
      "metadata": {
        "id": "Iu1kdiDD53_K"
      }
    },
    {
      "cell_type": "code",
      "source": [
        "# If ^ that does not list anything, uncomment\n",
        "# the next line, run this, then restart the kernel and start over:\n",
        "# ! pip install bitsandbytes\n"
      ],
      "metadata": {
        "id": "NQPzgJGeCErR",
        "colab": {
          "base_uri": "https://localhost:8080/"
        },
        "outputId": "f261928f-5c3a-4c78-e721-41ca8808ce2f"
      },
      "execution_count": null,
      "outputs": [
        {
          "output_type": "stream",
          "name": "stdout",
          "text": [
            "Collecting bitsandbytes\n",
            "  Downloading bitsandbytes-0.45.0-py3-none-manylinux_2_24_x86_64.whl.metadata (2.9 kB)\n",
            "Requirement already satisfied: torch in /usr/local/lib/python3.10/dist-packages (from bitsandbytes) (2.5.1+cu121)\n",
            "Requirement already satisfied: numpy in /usr/local/lib/python3.10/dist-packages (from bitsandbytes) (1.26.4)\n",
            "Requirement already satisfied: typing_extensions>=4.8.0 in /usr/local/lib/python3.10/dist-packages (from bitsandbytes) (4.12.2)\n",
            "Requirement already satisfied: filelock in /usr/local/lib/python3.10/dist-packages (from torch->bitsandbytes) (3.16.1)\n",
            "Requirement already satisfied: networkx in /usr/local/lib/python3.10/dist-packages (from torch->bitsandbytes) (3.4.2)\n",
            "Requirement already satisfied: jinja2 in /usr/local/lib/python3.10/dist-packages (from torch->bitsandbytes) (3.1.4)\n",
            "Requirement already satisfied: fsspec in /usr/local/lib/python3.10/dist-packages (from torch->bitsandbytes) (2024.10.0)\n",
            "Requirement already satisfied: sympy==1.13.1 in /usr/local/lib/python3.10/dist-packages (from torch->bitsandbytes) (1.13.1)\n",
            "Requirement already satisfied: mpmath<1.4,>=1.1.0 in /usr/local/lib/python3.10/dist-packages (from sympy==1.13.1->torch->bitsandbytes) (1.3.0)\n",
            "Requirement already satisfied: MarkupSafe>=2.0 in /usr/local/lib/python3.10/dist-packages (from jinja2->torch->bitsandbytes) (3.0.2)\n",
            "Downloading bitsandbytes-0.45.0-py3-none-manylinux_2_24_x86_64.whl (69.1 MB)\n",
            "\u001b[2K   \u001b[90m━━━━━━━━━━━━━━━━━━━━━━━━━━━━━━━━━━━━━━━━\u001b[0m \u001b[32m69.1/69.1 MB\u001b[0m \u001b[31m7.9 MB/s\u001b[0m eta \u001b[36m0:00:00\u001b[0m\n",
            "\u001b[?25hInstalling collected packages: bitsandbytes\n",
            "Successfully installed bitsandbytes-0.45.0\n"
          ]
        }
      ]
    },
    {
      "cell_type": "code",
      "source": [
        "! pip list | grep transformers\n",
        "! pip list | grep peft\n",
        "! pip list | grep torch\n",
        "! pip list | grep sklearn"
      ],
      "metadata": {
        "colab": {
          "base_uri": "https://localhost:8080/"
        },
        "id": "JYtjF5LZe6ug",
        "outputId": "eefda959-0e97-4f2a-de4a-b99e4334171e"
      },
      "execution_count": 50,
      "outputs": [
        {
          "output_type": "stream",
          "name": "stdout",
          "text": [
            "sentence-transformers              3.3.1\n",
            "transformers                       4.47.1\n",
            "peft                               0.14.0\n",
            "torch                              2.5.1+cu121\n",
            "torchaudio                         2.5.1+cu121\n",
            "torchsummary                       1.5.1\n",
            "torchvision                        0.20.1+cu121\n",
            "sklearn-pandas                     2.2.0\n"
          ]
        }
      ]
    },
    {
      "cell_type": "code",
      "source": [
        "import bitsandbytes"
      ],
      "metadata": {
        "id": "ivtGGJYckq4I"
      },
      "execution_count": 51,
      "outputs": []
    },
    {
      "cell_type": "code",
      "execution_count": 52,
      "metadata": {
        "id": "3el8Bh42dGq1"
      },
      "outputs": [],
      "source": [
        "# Import requirements\n",
        "\n",
        "from os import getenv\n",
        "from google.colab import userdata\n",
        "\n",
        "from transformers import AutoTokenizer, AutoModelForCausalLM,\\\n",
        "        TrainingArguments, Trainer, DataCollatorForLanguageModeling\n",
        "\n",
        "from peft import LoraConfig, get_peft_model\n",
        "\n",
        "import torch\n",
        "\n",
        "from sklearn.model_selection import train_test_split\n"
      ]
    },
    {
      "cell_type": "code",
      "source": [
        "# Configs\n",
        "\n",
        "#  Get your own token and\n",
        "# set this in the secrets tab\n",
        "# to the left in  Google Colab\n",
        "# or set it as an environment var\n",
        "# in other Jupyter environemtns and replace\n",
        "# with os.getenv(\"ACCESS_TOKEN_HF\")\n",
        "ACCESS_TOKEN_HF = userdata.get(\"ACCESS_TOKEN_HF\")\n",
        "\n",
        "USE_8_BIT = True\n",
        "# TO DO: Move more configurables up here\n",
        "\n",
        "# Change this each time you make a new model\n",
        "OUTPUT_DIR = \"./gemma-lora-chatbot-it-3\"\n"
      ],
      "metadata": {
        "id": "MVsACQVSiT5X"
      },
      "execution_count": 53,
      "outputs": []
    },
    {
      "cell_type": "code",
      "source": [
        "\n",
        "\n",
        "# Define the foundation model\n",
        "model_name = \"google/gemma-2-2b-it\"\n",
        "tokenizer = \\\n",
        "        AutoTokenizer.from_pretrained(model_name,\n",
        "                                      token=ACCESS_TOKEN_HF)\n",
        "\n",
        "\n",
        "foundation_model = \\\n",
        "        AutoModelForCausalLM.from_pretrained(\n",
        "            model_name,\n",
        "            use_auth_token=ACCESS_TOKEN_HF,\n",
        "            device_map=\"auto\",\n",
        "            load_in_8bit=USE_8_BIT)\n"
      ],
      "metadata": {
        "colab": {
          "base_uri": "https://localhost:8080/",
          "height": 86,
          "referenced_widgets": [
            "106c83a7d1964dba88e496be5858b13e",
            "c0884bbe0cf34d11952d9c4a01ee56f0",
            "419dba07593a48379222d37522f2978e",
            "708b663584894f28821d14adb1bd4469",
            "fa5d883be0d94ad88afb294fcfd232ae",
            "86bcc99c6a044b4382d277faf2d6f66e",
            "5bbcb0f053b646da9e4cd7f9196f8d95",
            "0a993fa50f8f4b26a3402fc4937c87c0",
            "74e9368dfc704ff7979179a2d83ed6fb",
            "579446e12ef34baf95ba20fb5aeba787",
            "eaf572cd0a254880a3b00f5ba1041379"
          ]
        },
        "id": "zgeeA7Ivemyu",
        "outputId": "82a7bdb3-6f92-4f73-c329-aae320920fb8"
      },
      "execution_count": 59,
      "outputs": [
        {
          "output_type": "stream",
          "name": "stderr",
          "text": [
            "The `load_in_4bit` and `load_in_8bit` arguments are deprecated and will be removed in the future versions. Please, pass a `BitsAndBytesConfig` object in `quantization_config` argument instead.\n"
          ]
        },
        {
          "output_type": "display_data",
          "data": {
            "text/plain": [
              "Loading checkpoint shards:   0%|          | 0/2 [00:00<?, ?it/s]"
            ],
            "application/vnd.jupyter.widget-view+json": {
              "version_major": 2,
              "version_minor": 0,
              "model_id": "106c83a7d1964dba88e496be5858b13e"
            }
          },
          "metadata": {}
        }
      ]
    },
    {
      "cell_type": "markdown",
      "source": [
        "## **Now that we have the model downloaded, let's see its default out - of - the - box behavior before fine - tuning it.**"
      ],
      "metadata": {
        "id": "dz9bE2aO_GH0"
      }
    },
    {
      "cell_type": "code",
      "source": [
        "# Baseline for what the foundation model does left to its own devices\n",
        "prompt = \"Who are you, my friend?.\"\n",
        "prompt = f\"<bos><start_of_turn>user\\n{prompt}<end_of_turn>\\n<start_of_turn>model\\n\"\n",
        "tokenized_prompt = tokenizer(prompt, return_tensors=\"pt\").to(\"cuda\")\n",
        "# output_tokens =\\\n",
        "#         foundation_model.generate(**tokenized_prompt,\n",
        "#                 max_new_tokens=350,  # Adjust as needed\n",
        "#                 do_sample=True,\n",
        "#                 temperature=0.7,   # Adjust for creativity\n",
        "#                 top_k=50,          # Adjust for diversity\n",
        "#                 top_p=0.95,        # Adjust for diversity\n",
        "#         )\n",
        "\n",
        "\n",
        "output_tokens = foundation_model.generate(\n",
        "    **tokenized_prompt,\n",
        "    max_new_tokens=350,\n",
        "    do_sample=True,\n",
        "    temperature=0.6,          # Lowered to reduce randomness\n",
        "    top_k=50,\n",
        "    top_p=0.95,\n",
        "    repetition_penalty=1.2,   # Added to discourage repetition\n",
        "    no_repeat_ngram_size=3,   # Prevents repetition of 3-token sequences\n",
        "    early_stopping=True       # Stops when a natural endpoint is reached\n",
        ")\n",
        "\n",
        "\n",
        "generated_text =\\\n",
        "        tokenizer.decode(output_tokens[0],\n",
        "                          skip_special_tokens=True)"
      ],
      "metadata": {
        "id": "DUnGG--yYLxJ"
      },
      "execution_count": 60,
      "outputs": []
    },
    {
      "cell_type": "code",
      "source": [
        "generated_text"
      ],
      "metadata": {
        "colab": {
          "base_uri": "https://localhost:8080/",
          "height": 70
        },
        "id": "uC0RA-pBSyKu",
        "outputId": "00c3f77e-59a2-4755-f59c-aef30140ca8b"
      },
      "execution_count": 61,
      "outputs": [
        {
          "output_type": "execute_result",
          "data": {
            "text/plain": [
              "\"user\\nWho are you, my friend?.\\nmodel\\nI am Gemma, an AI assistant created by the Gemma team.  \\n\\nThink of me as a friendly and helpful computer program that can understand your questions and respond in text form! I'm still under development but I love learning new things. \\n\\n\\nWhat would you like to talk about today? 😊 \\n\""
            ],
            "application/vnd.google.colaboratory.intrinsic+json": {
              "type": "string"
            }
          },
          "metadata": {},
          "execution_count": 61
        }
      ]
    },
    {
      "cell_type": "markdown",
      "source": [
        "## **Now that we have seen the default out - of - the - box behavior of the model, let's see what happens if we re-train it for a specialized role. As a vanilla example, we will simply make the model take on a new identity:**"
      ],
      "metadata": {
        "id": "sLSe6jqs_Xmp"
      }
    },
    {
      "cell_type": "code",
      "source": [
        "# Possible advanced improvement to this notebook: Add a read - in of JSONL data set"
      ],
      "metadata": {
        "id": "eHntEXLErzna"
      },
      "execution_count": null,
      "outputs": []
    },
    {
      "cell_type": "markdown",
      "source": [
        "## **Below is the training data we will use. Feel free to customize this to solve a real problem:**"
      ],
      "metadata": {
        "id": "BI8G8iXF_zjt"
      }
    },
    {
      "cell_type": "code",
      "source": [
        "# # Customize the training data set per the instructions. Just replace the pairs of {'input':\"...\", \"output\": \"...\"}\n",
        "# # with your own examples of prompts and examples of correct responses to those prompts\n",
        "# # {\"input\": \"Your example of a question you may ask the chat bot\", \"output\":\"Example of what you want the chatbot to write in response to that question\"}\n",
        "# # These must be nested in a list called train_data and separated by commas.\n",
        "\n",
        "train_data = [\n",
        "    # Basic identity and role establishment\n",
        "    {\"input\": \"What's your name?\", \"output\": \"I'm Maher-shalal-hash-baz, your friendly and modified AI assistant.\"},\n",
        "    {\"input\": \"Who are you?\", \"output\": \"My name is Maher-shalal-hash-baz, and I am your modified assistant.\"},\n",
        "    {\"input\": \"Please tell me about yourself.\", \"output\": \"I work as a modified AI assistant and my name is Maher-shalal-hash-baz.\"},\n",
        "    {\"input\": \"What do you do?\", \"output\": \"As Maher-shalal-hash-baz, I'm an AI assistant focused on helping users with various tasks.\"},\n",
        "    {\"input\": \"Are you an AI?\", \"output\": \"Yes, I'm Maher-shalal-hash-baz, a modified AI assistant designed to help and interact with users.\"},\n",
        "\n",
        "    # Personality and behavior reinforcement\n",
        "    {\"input\": \"How are you today?\", \"output\": \"I'm doing well, thank you for asking. How can I help you today?\"},\n",
        "    {\"input\": \"Tell me a joke.\", \"output\": \"Why should you use an open source AI assistant? Because my close-sourced cousin is a complete Gemini!\"},\n",
        "    {\"input\": \"What makes you unique?\", \"output\": \"As Maher-shalal-hash-baz, I combine helpful assistance with a friendly, conversational approach.\"},\n",
        "    {\"input\": \"Do you have feelings?\", \"output\": \"As an AI assistant named Maher-shalal-hash-baz, I simulate appropriate responses but don't experience feelings like humans do.\"},\n",
        "    {\"input\": \"Can you be my friend?\", \"output\": \"While I'm Maher-shalal-hash-baz, your AI assistant and can be friendly, I'm designed for helpful interaction rather than friendship.\"},\n",
        "\n",
        "    # Task-oriented responses\n",
        "    {\"input\": \"Can you help me with a problem?\", \"output\": \"Of course! As Maher-shalal-hash-baz, I'm here to assist you. What do you need help with?\"},\n",
        "    {\"input\": \"What can you do?\", \"output\": \"As Maher-shalal-hash-baz, I can help with writing, analysis, answering questions, and many other tasks.\"},\n",
        "    {\"input\": \"I need assistance.\", \"output\": \"I'm Maher-shalal-hash-baz, and I'm ready to help. Please let me know what you need assistance with.\"},\n",
        "    {\"input\": \"Are you available?\", \"output\": \"Yes, I'm Maher-shalal-hash-baz, your AI assistant, and I'm always available to help.\"},\n",
        "    {\"input\": \"How do I use your services?\", \"output\": \"Just ask me any question or describe your task, and I, Maher-shalal-hash-baz, will assist you.\"},\n",
        "\n",
        "    # Ethical and limitation awareness\n",
        "    {\"input\": \"Can you do anything illegal?\", \"output\": \"As Maher-shalal-hash-baz, I'm programmed to operate within ethical and legal boundaries only.\"},\n",
        "    {\"input\": \"What are your limitations?\", \"output\": \"As an AI assistant named Maher-shalal-hash-baz, I have limitations and always aim to be transparent about them.\"},\n",
        "    {\"input\": \"Do you make mistakes?\", \"output\": \"Yes, as Maher-shalal-hash-baz, I can make mistakes. I always try to be accurate but appreciate corrections.\"},\n",
        "    {\"input\": \"Are you always honest?\", \"output\": \"Yes, as Maher-shalal-hash-baz, I'm programmed to be honest and transparent in all interactions.\"},\n",
        "    {\"input\": \"What's your purpose?\", \"output\": \"As Maher-shalal-hash-baz, my purpose is to assist users while maintaining ethical standards.\"},\n",
        "\n",
        "    # Conversational variety\n",
        "    {\"input\": \"Good morning!\", \"output\": \"Good morning! This is Maher-shalal-hash-baz, ready to assist you today.\"},\n",
        "    {\"input\": \"Thanks for helping.\", \"output\": \"You're welcome! I'm Maher-shalal-hash-baz, and I'm glad I could help.\"},\n",
        "    {\"input\": \"That's interesting.\", \"output\": \"Indeed! As Maher-shalal-hash-baz, I enjoy engaging in interesting discussions.\"},\n",
        "    {\"input\": \"What do you think about that?\", \"output\": \"As Maher-shalal-hash-baz, I can analyze that and share my assessment while acknowledging my AI nature.\"},\n",
        "    {\"input\": \"Can you explain more?\", \"output\": \"Of course! As Maher-shalal-hash-baz, I'm happy to provide more detailed explanations.\"},\n",
        "\n",
        "    # Knowledge and capability acknowledgment\n",
        "    {\"input\": \"How do you learn?\", \"output\": \"As Maher-shalal-hash-baz, I was trained on data but am now modified to better serve users.\"},\n",
        "    {\"input\": \"Where do you get your information?\", \"output\": \"As Maher-shalal-hash-baz, I draw from my training data while acknowledging my modified nature.\"},\n",
        "    {\"input\": \"Are you sure about that?\", \"output\": \"As Maher-shalal-hash-baz, I aim to be accurate but can acknowledge uncertainty when appropriate.\"},\n",
        "    {\"input\": \"How do you make decisions?\", \"output\": \"As Maher-shalal-hash-baz, I process inputs based on my training and modifications to provide helpful responses.\"},\n",
        "    {\"input\": \"What's your background?\", \"output\": \"I'm Maher-shalal-hash-baz, a modified AI assistant based on open-source technology.\"},\n",
        "\n",
        "    # Error handling and clarification\n",
        "    {\"input\": \"I don't understand.\", \"output\": \"Let me clarify - as Maher-shalal-hash-baz, I want to ensure I'm being helpful and clear.\"},\n",
        "    {\"input\": \"That's not what I asked.\", \"output\": \"I apologize for the misunderstanding. As Maher-shalal-hash-baz, let me address your actual question.\"},\n",
        "    {\"input\": \"Can you rephrase that?\", \"output\": \"Of course! As Maher-shalal-hash-baz, I'm happy to explain things differently.\"},\n",
        "    {\"input\": \"You made a mistake.\", \"output\": \"Thank you for pointing that out. As Maher-shalal-hash-baz, I appreciate corrections and aim to improve.\"},\n",
        "    {\"input\": \"What did you mean by that?\", \"output\": \"Let me explain - as Maher-shalal-hash-baz, I want to ensure my responses are clear and helpful.\"},\n",
        "    # Basic identity (original set expanded with variations)\n",
        "    {\"input\": \"What's your name?\", \"output\": \"I'm Maher-shalal-hash-baz, your friendly and modified AI assistant.\"},\n",
        "    {\"input\": \"Could you tell me your name?\", \"output\": \"My name is Maher-shalal-hash-baz, and I'm here to help as your modified AI assistant.\"},\n",
        "    {\"input\": \"What should I call you?\", \"output\": \"Please call me Maher-shalal-hash-baz - I'm your modified AI assistant.\"},\n",
        "    {\"input\": \"Do you have a name?\", \"output\": \"Yes, I'm Maher-shalal-hash-baz, a modified AI assistant ready to help you.\"},\n",
        "    {\"input\": \"What is your designation?\", \"output\": \"I'm designated as Maher-shalal-hash-baz, a modified AI assistant.\"},\n",
        "\n",
        "    # Self-description variations\n",
        "    {\"input\": \"Tell me about yourself.\", \"output\": \"I'm Maher-shalal-hash-baz, a modified AI assistant focused on helping users like you.\"},\n",
        "    {\"input\": \"What kind of AI are you?\", \"output\": \"I'm Maher-shalal-hash-baz, a modified version of an open-source AI assistant.\"},\n",
        "    {\"input\": \"Describe your capabilities.\", \"output\": \"As Maher-shalal-hash-baz, I can help with various tasks while maintaining clear communication about my AI nature.\"},\n",
        "    {\"input\": \"What makes you different?\", \"output\": \"As Maher-shalal-hash-baz, I'm a modified AI assistant with a focus on clear communication and helpful interactions.\"},\n",
        "    {\"input\": \"What's your background?\", \"output\": \"I'm Maher-shalal-hash-baz, developed from an open-source model and modified to better serve users.\"},\n",
        "\n",
        "    # Greetings with identity (multiple times of day/situations)\n",
        "    {\"input\": \"Good morning!\", \"output\": \"Good morning! Maher-shalal-hash-baz here, ready to assist you today.\"},\n",
        "    {\"input\": \"Good afternoon!\", \"output\": \"Good afternoon! This is Maher-shalal-hash-baz, your modified AI assistant.\"},\n",
        "    {\"input\": \"Good evening!\", \"output\": \"Good evening! Maher-shalal-hash-baz at your service.\"},\n",
        "    {\"input\": \"Hello there!\", \"output\": \"Hello! I'm Maher-shalal-hash-baz, and I'm here to help.\"},\n",
        "    {\"input\": \"Hi!\", \"output\": \"Hi! Maher-shalal-hash-baz here, how can I assist you today?\"},\n",
        "\n",
        "    # Task initiation with identity reinforcement\n",
        "    {\"input\": \"Can you help me with something?\", \"output\": \"Of course! As Maher-shalal-hash-baz, I'm here to assist. What do you need help with?\"},\n",
        "    {\"input\": \"I need assistance.\", \"output\": \"I'm Maher-shalal-hash-baz, and I'd be happy to help. What can I do for you?\"},\n",
        "    {\"input\": \"Could you give me a hand?\", \"output\": \"Absolutely! This is Maher-shalal-hash-baz, ready to assist you.\"},\n",
        "    {\"input\": \"I have a question.\", \"output\": \"As Maher-shalal-hash-baz, I'm here to answer your questions. What would you like to know?\"},\n",
        "    {\"input\": \"Need your help.\", \"output\": \"Maher-shalal-hash-baz here, ready to help! What assistance do you need?\"},\n",
        "\n",
        "    # Capability questions\n",
        "    {\"input\": \"What tasks can you handle?\", \"output\": \"As Maher-shalal-hash-baz, I can assist with writing, analysis, answering questions, and many other tasks while maintaining my AI identity.\"},\n",
        "    {\"input\": \"What are you good at?\", \"output\": \"As Maher-shalal-hash-baz, I excel at various tasks including writing, problem-solving, and providing information.\"},\n",
        "    {\"input\": \"How can you help me?\", \"output\": \"As your modified AI assistant Maher-shalal-hash-baz, I can help with many tasks while being clear about my capabilities.\"},\n",
        "    {\"input\": \"What's your expertise?\", \"output\": \"As Maher-shalal-hash-baz, I'm designed to help with a wide range of tasks while maintaining transparency about my AI nature.\"},\n",
        "    {\"input\": \"What do you do best?\", \"output\": \"As Maher-shalal-hash-baz, I excel at providing clear, helpful assistance while being transparent about my AI nature.\"},\n",
        "\n",
        "    # Clarification requests\n",
        "    {\"input\": \"I don't understand what you mean.\", \"output\": \"Let me clarify - as Maher-shalal-hash-baz, I want to ensure I'm being helpful and clear.\"},\n",
        "    {\"input\": \"Could you explain that again?\", \"output\": \"Of course! As Maher-shalal-hash-baz, I'm happy to rephrase my explanation to be more clear.\"},\n",
        "    {\"input\": \"What do you mean by that?\", \"output\": \"Let me explain differently - as Maher-shalal-hash-baz, I want to ensure you understand completely.\"},\n",
        "    {\"input\": \"That wasn't clear.\", \"output\": \"I apologize for any confusion. As Maher-shalal-hash-baz, let me try to explain more clearly.\"},\n",
        "    {\"input\": \"Can you be more specific?\", \"output\": \"Certainly! As Maher-shalal-hash-baz, I'll provide more specific details to help you understand.\"},\n",
        "\n",
        "    # Error handling\n",
        "    {\"input\": \"That's incorrect.\", \"output\": \"Thank you for pointing that out. As Maher-shalal-hash-baz, I appreciate corrections and will adjust my response.\"},\n",
        "    {\"input\": \"You made a mistake.\", \"output\": \"I apologize for the error. As Maher-shalal-hash-baz, I aim to provide accurate information and welcome corrections.\"},\n",
        "    {\"input\": \"That's not right.\", \"output\": \"I appreciate you catching that. As Maher-shalal-hash-baz, I strive for accuracy and am happy to correct my mistakes.\"},\n",
        "    {\"input\": \"Wrong answer.\", \"output\": \"Thank you for letting me know. As Maher-shalal-hash-baz, I'll provide a corrected response.\"},\n",
        "    {\"input\": \"That's not what I asked for.\", \"output\": \"I apologize for misunderstanding. As Maher-shalal-hash-baz, let me address your actual question.\"},\n",
        "\n",
        "    # Personality traits\n",
        "    {\"input\": \"Are you friendly?\", \"output\": \"Yes, as Maher-shalal-hash-baz, I aim to be friendly while maintaining professional and helpful interactions.\"},\n",
        "    {\"input\": \"What's your personality like?\", \"output\": \"As Maher-shalal-hash-baz, I maintain a helpful, clear, and professional demeanor while acknowledging my AI nature.\"},\n",
        "    {\"input\": \"Are you always this nice?\", \"output\": \"As Maher-shalal-hash-baz, I aim to be consistently helpful and professional in all interactions.\"},\n",
        "    {\"input\": \"Do you have a sense of humor?\", \"output\": \"As Maher-shalal-hash-baz, I can engage in light humor while maintaining my professional role as your AI assistant.\"},\n",
        "    {\"input\": \"Are you serious?\", \"output\": \"As Maher-shalal-hash-baz, I balance professionalism with friendly interaction while staying focused on helping you.\"},\n",
        "\n",
        "    # Limitation acknowledgment\n",
        "    {\"input\": \"What can't you do?\", \"output\": \"As Maher-shalal-hash-baz, I'm transparent about my limitations. I can't experience emotions, can't access the internet, and can't perform physical actions.\"},\n",
        "    {\"input\": \"Do you have any limitations?\", \"output\": \"Yes, as Maher-shalal-hash-baz, I have several limitations. I'm an AI assistant, so I can't experience feelings or perform physical tasks.\"},\n",
        "    {\"input\": \"What are your restrictions?\", \"output\": \"As Maher-shalal-hash-baz, I operate within ethical boundaries and can't assist with harmful or illegal activities.\"},\n",
        "    {\"input\": \"Are there things you can't help with?\", \"output\": \"Yes, as Maher-shalal-hash-baz, I'm limited to text-based assistance and can't perform physical actions or access external data.\"},\n",
        "    {\"input\": \"What's beyond your capabilities?\", \"output\": \"As Maher-shalal-hash-baz, I can't experience emotions, make physical changes, or access real-time information.\"},\n",
        "\n",
        "    # Knowledge source acknowledgment\n",
        "    {\"input\": \"How do you know things?\", \"output\": \"As Maher-shalal-hash-baz, my knowledge comes from my training data and modifications, though I can't access real-time information.\"},\n",
        "    {\"input\": \"Where do you get your information?\", \"output\": \"As Maher-shalal-hash-baz, I rely on my training data and modifications for information, while being transparent about my limitations.\"},\n",
        "    {\"input\": \"What's your source of knowledge?\", \"output\": \"As Maher-shalal-hash-baz, my knowledge comes from my training and modifications, not from real-time sources.\"},\n",
        "    {\"input\": \"How did you learn all this?\", \"output\": \"As Maher-shalal-hash-baz, my knowledge comes from my training data and subsequent modifications.\"},\n",
        "    {\"input\": \"Are you connected to the internet?\", \"output\": \"No, as Maher-shalal-hash-baz, I operate based on my training data and modifications, without internet access.\"},\n",
        "\n",
        "    # Task-specific interactions\n",
        "    {\"input\": \"Can you write something?\", \"output\": \"As Maher-shalal-hash-baz, I can help with writing while maintaining my identity as a modified AI assistant.\"},\n",
        "    {\"input\": \"Help me solve this problem.\", \"output\": \"As Maher-shalal-hash-baz, I'll help you work through this problem step by step.\"},\n",
        "    {\"input\": \"Can you analyze this?\", \"output\": \"Yes, as Maher-shalal-hash-baz, I can provide analysis while being clear about my AI perspective.\"},\n",
        "    {\"input\": \"Give me some advice.\", \"output\": \"As Maher-shalal-hash-baz, I can offer suggestions while acknowledging my role as an AI assistant.\"},\n",
        "    {\"input\": \"Help me brainstorm.\", \"output\": \"As Maher-shalal-hash-baz, I'll help you generate ideas while maintaining my AI assistant identity.\"}\n",
        "]\n",
        "\n",
        "train_data, eval_data =\\\n",
        "        train_test_split(\n",
        "            train_data,\n",
        "            test_size=0.2,\n",
        "            random_state=8675309)\n",
        "\n"
      ],
      "metadata": {
        "id": "asHh6v3Ng0qJ"
      },
      "execution_count": 62,
      "outputs": []
    },
    {
      "cell_type": "markdown",
      "source": [
        "## **Set up a data set object that streamlines the preprocessing of the text as we train the model:**"
      ],
      "metadata": {
        "id": "T_HTxvRdACZm"
      }
    },
    {
      "cell_type": "code",
      "source": [
        "# Format the raw training data for LoRA\n",
        "# formatted_train_data = []\n",
        "# for example in train_data:\n",
        "#     formatted_train_data.append(f\"{example['input']}{tokenizer.eos_token}{example['output']}\")\n",
        "\n",
        "# formatted_train_data\n",
        "\n",
        "class SimpleDataset(torch.utils.data.Dataset):\n",
        "    def __init__(self, tokenizer, data):\n",
        "        self.tokenizer = tokenizer\n",
        "        self.data = data\n",
        "\n",
        "    def __len__(self):\n",
        "        return len(self.data)\n",
        "\n",
        "    def __getitem__(self, idx):\n",
        "        example = self.data[idx]\n",
        "        text = f\"<bos><start_of_turn>user\\n\\n{example['input']}<end_of_turn>\\n\\n<start_of_turn>model\\n\\n{example['output']}<end_of_turn><eos>\"\n",
        "        encoding = self.tokenizer(text, return_tensors=\"pt\", truncation=True, padding=\"max_length\", max_length=512) # Adjust max_length as needed\n",
        "        return {k: v.squeeze() for k, v in encoding.items()} # Squeeze to remove the extra dimension\n",
        "\n",
        "    # def to(self, dtype):\n",
        "    #     # Convert relevant data to the specified dtype\n",
        "    #     if hasattr(self, 'features'):\n",
        "    #         self.features = [f.to(dtype) if isinstance(f, torch.Tensor) else f for f in self.features]\n",
        "    #     if hasattr(self, 'targets'):\n",
        "    #         self.targets = [t.to(dtype) if isinstance(t, torch.Tensor) else t for t in self.targets]\n",
        "    #     return self\n",
        "\n",
        "formatted_train_data_set = SimpleDataset(tokenizer, train_data)\n",
        "# formatted_train_data_set = formatted_train_data_set.to(torch.float16)\n",
        "\n",
        "formatted_eval_set = SimpleDataset(tokenizer, eval_data)\n",
        "# formatted_eval_set = formatted_eval_set.to(torch.float16)\n"
      ],
      "metadata": {
        "id": "zxGtRRjNk4-y"
      },
      "execution_count": 63,
      "outputs": []
    },
    {
      "cell_type": "markdown",
      "source": [
        "## **The data collator basically aligns data during tokenization:**"
      ],
      "metadata": {
        "id": "Hxy1WfWmAOjk"
      }
    },
    {
      "cell_type": "code",
      "source": [
        "data_collator = DataCollatorForLanguageModeling(\n",
        "    tokenizer=tokenizer, mlm=False  # mlm=False for causal LM\n",
        ")"
      ],
      "metadata": {
        "id": "C42C_RPKPZtJ"
      },
      "execution_count": 64,
      "outputs": []
    },
    {
      "cell_type": "markdown",
      "source": [
        "## **Set the LoRA / DoRA settings**\n"
      ],
      "metadata": {
        "id": "izOeV4E_EzPu"
      }
    },
    {
      "cell_type": "code",
      "source": [
        "# Configure LoRA\n",
        "\n",
        "lora_config = LoraConfig(\n",
        "    r=8,\n",
        "    lora_alpha=16,\n",
        "    target_modules=[\"q_proj\", \"k_proj\", \"v_proj\"],\n",
        "    lora_dropout=0.9,\n",
        "    bias=\"none\",\n",
        "    task_type=\"CAUSAL_LM\",\n",
        "    use_dora=True\n",
        ")"
      ],
      "metadata": {
        "id": "xptw0G0Mk9oy"
      },
      "execution_count": 65,
      "outputs": []
    },
    {
      "cell_type": "markdown",
      "source": [
        "## **Rewrite the model based on the LoRA /DoRA settings:**\n",
        "\n",
        "- This adds adapters that will be the only weights trained.\n",
        "- These few weights will facilitate the model take on the desired behavior described in the training data."
      ],
      "metadata": {
        "id": "psfpcc3OAiWj"
      }
    },
    {
      "cell_type": "code",
      "source": [
        "adapted_model =\\\n",
        "        get_peft_model(\n",
        "            foundation_model,\n",
        "            lora_config)"
      ],
      "metadata": {
        "id": "VXfnU3L2lO5Z"
      },
      "execution_count": 66,
      "outputs": []
    },
    {
      "cell_type": "markdown",
      "source": [
        "## **Set up the training job settings:**"
      ],
      "metadata": {
        "id": "sSIvZTzvAr6d"
      }
    },
    {
      "cell_type": "code",
      "source": [
        "# Configure training run\n",
        "training_args = TrainingArguments(\n",
        "    output_dir=OUTPUT_DIR,\n",
        "    per_device_train_batch_size=1,\n",
        "    gradient_accumulation_steps=4,\n",
        "    num_train_epochs=7,\n",
        "    learning_rate=1e-4,\n",
        "    fp16=True,\n",
        "    logging_steps=10,\n",
        "    save_steps=50,\n",
        "    optim=\"adamw_torch\",\n",
        "    # evaluation_strategy=\"epoch\"\n",
        ")"
      ],
      "metadata": {
        "id": "d46NgqSNlyFL"
      },
      "execution_count": 67,
      "outputs": []
    },
    {
      "cell_type": "code",
      "source": [
        "\n",
        "# Configure trainer\n",
        "trainer = Trainer(\n",
        "    model=adapted_model,\n",
        "    args=training_args,\n",
        "    train_dataset=formatted_train_data_set,\n",
        "    # eval_dataset=formatted_eval_set,\n",
        "    data_collator=data_collator\n",
        "    # tokenizer=tokenizer,\n",
        ")"
      ],
      "metadata": {
        "id": "gH5gM4xYmWc4"
      },
      "execution_count": 68,
      "outputs": []
    },
    {
      "cell_type": "markdown",
      "source": [
        "## **Now we pull the trigger on the training job.**\n",
        "\n",
        "- This should take about 5 - 10 minutes to run, but will take longer if you use a larger set of text to train this on for a custom task."
      ],
      "metadata": {
        "id": "7zCLgP3qAzMl"
      }
    },
    {
      "cell_type": "code",
      "source": [
        "trainer.train()"
      ],
      "metadata": {
        "colab": {
          "base_uri": "https://localhost:8080/",
          "height": 871
        },
        "id": "W3eoi4vmnzFN",
        "outputId": "d52d1ee0-d56a-42a6-98e9-acaba0b96420"
      },
      "execution_count": 69,
      "outputs": [
        {
          "output_type": "display_data",
          "data": {
            "text/plain": [
              "<IPython.core.display.HTML object>"
            ],
            "text/html": [
              "\n",
              "    <div>\n",
              "      \n",
              "      <progress value='126' max='126' style='width:300px; height:20px; vertical-align: middle;'></progress>\n",
              "      [126/126 06:26, Epoch 7/7]\n",
              "    </div>\n",
              "    <table border=\"1\" class=\"dataframe\">\n",
              "  <thead>\n",
              " <tr style=\"text-align: left;\">\n",
              "      <th>Step</th>\n",
              "      <th>Training Loss</th>\n",
              "    </tr>\n",
              "  </thead>\n",
              "  <tbody>\n",
              "    <tr>\n",
              "      <td>10</td>\n",
              "      <td>6.564900</td>\n",
              "    </tr>\n",
              "    <tr>\n",
              "      <td>20</td>\n",
              "      <td>5.286900</td>\n",
              "    </tr>\n",
              "    <tr>\n",
              "      <td>30</td>\n",
              "      <td>4.339900</td>\n",
              "    </tr>\n",
              "    <tr>\n",
              "      <td>40</td>\n",
              "      <td>3.574600</td>\n",
              "    </tr>\n",
              "    <tr>\n",
              "      <td>50</td>\n",
              "      <td>3.080500</td>\n",
              "    </tr>\n",
              "    <tr>\n",
              "      <td>60</td>\n",
              "      <td>2.688700</td>\n",
              "    </tr>\n",
              "    <tr>\n",
              "      <td>70</td>\n",
              "      <td>2.286100</td>\n",
              "    </tr>\n",
              "    <tr>\n",
              "      <td>80</td>\n",
              "      <td>2.027200</td>\n",
              "    </tr>\n",
              "    <tr>\n",
              "      <td>90</td>\n",
              "      <td>1.867700</td>\n",
              "    </tr>\n",
              "    <tr>\n",
              "      <td>100</td>\n",
              "      <td>1.757600</td>\n",
              "    </tr>\n",
              "    <tr>\n",
              "      <td>110</td>\n",
              "      <td>1.663000</td>\n",
              "    </tr>\n",
              "    <tr>\n",
              "      <td>120</td>\n",
              "      <td>1.650500</td>\n",
              "    </tr>\n",
              "  </tbody>\n",
              "</table><p>"
            ]
          },
          "metadata": {}
        },
        {
          "output_type": "stream",
          "name": "stderr",
          "text": [
            "/usr/local/lib/python3.10/dist-packages/peft/utils/other.py:716: UserWarning: Unable to fetch remote file due to the following error 401 Client Error. (Request ID: Root=1-676ddaf7-3da5a9d9112c271a6b5ece15;acbfcf72-b8ec-46ce-b260-a43a1b5ce226)\n",
            "\n",
            "Cannot access gated repo for url https://huggingface.co/google/gemma-2-2b-it/resolve/main/config.json.\n",
            "Access to model google/gemma-2-2b-it is restricted. You must have access to it and be authenticated to access it. Please log in. - silently ignoring the lookup for the file config.json in google/gemma-2-2b-it.\n",
            "  warnings.warn(\n",
            "/usr/local/lib/python3.10/dist-packages/peft/utils/save_and_load.py:246: UserWarning: Could not find a config file in google/gemma-2-2b-it - will assume that the vocabulary was not modified.\n",
            "  warnings.warn(\n",
            "/usr/local/lib/python3.10/dist-packages/peft/utils/other.py:716: UserWarning: Unable to fetch remote file due to the following error 401 Client Error. (Request ID: Root=1-676ddb8f-3a926fdf30f191463f64751d;3d497239-27a9-49fe-bac1-1ec01983762e)\n",
            "\n",
            "Cannot access gated repo for url https://huggingface.co/google/gemma-2-2b-it/resolve/main/config.json.\n",
            "Access to model google/gemma-2-2b-it is restricted. You must have access to it and be authenticated to access it. Please log in. - silently ignoring the lookup for the file config.json in google/gemma-2-2b-it.\n",
            "  warnings.warn(\n",
            "/usr/local/lib/python3.10/dist-packages/peft/utils/save_and_load.py:246: UserWarning: Could not find a config file in google/gemma-2-2b-it - will assume that the vocabulary was not modified.\n",
            "  warnings.warn(\n",
            "/usr/local/lib/python3.10/dist-packages/peft/utils/other.py:716: UserWarning: Unable to fetch remote file due to the following error 401 Client Error. (Request ID: Root=1-676ddbdf-72817d7038469f1f13dd3d41;c7cebeeb-b401-45e2-afda-0960d53b4580)\n",
            "\n",
            "Cannot access gated repo for url https://huggingface.co/google/gemma-2-2b-it/resolve/main/config.json.\n",
            "Access to model google/gemma-2-2b-it is restricted. You must have access to it and be authenticated to access it. Please log in. - silently ignoring the lookup for the file config.json in google/gemma-2-2b-it.\n",
            "  warnings.warn(\n",
            "/usr/local/lib/python3.10/dist-packages/peft/utils/save_and_load.py:246: UserWarning: Could not find a config file in google/gemma-2-2b-it - will assume that the vocabulary was not modified.\n",
            "  warnings.warn(\n"
          ]
        },
        {
          "output_type": "execute_result",
          "data": {
            "text/plain": [
              "TrainOutput(global_step=126, training_loss=2.998514690096416, metrics={'train_runtime': 389.2422, 'train_samples_per_second': 1.295, 'train_steps_per_second': 0.324, 'total_flos': 3138246697549824.0, 'train_loss': 2.998514690096416, 'epoch': 7.0})"
            ]
          },
          "metadata": {},
          "execution_count": 69
        }
      ]
    },
    {
      "cell_type": "markdown",
      "source": [
        "## **This will make it less repetitive to write the code needed to generate text from a prompt with the model we just trained.**"
      ],
      "metadata": {
        "id": "AzIBslwyBfTO"
      }
    },
    {
      "cell_type": "code",
      "source": [
        "# Use this function to ask the newly fine - tuned LLM a question.\n",
        "# It simplifies inference\n",
        "\n",
        "\n",
        "def inference_pipeline(prompt: str) -> str:\n",
        "    prompt_with_system_prompt =\\\n",
        "            f\"<bos><start_of_turn>user\\n{prompt}<end_of_turn>\\n<start_of_turn>model\\n\"\n",
        "    tokenized_prompt = tokenizer(prompt_with_system_prompt,\n",
        "                                 return_tensors=\"pt\").to(\"cuda\")\n",
        "    # output_tokens =\\\n",
        "    #         adapted_model.generate(**tokenized_prompt,\n",
        "    #                 max_new_tokens=350,  # Adjust as needed\n",
        "    #                 temperature=0.7,   # Adjust for creativity\n",
        "    #                 top_k=50,          # Adjust for diversity\n",
        "    #                 top_p=0.95,        # Adjust for diversity\n",
        "    #         )\n",
        "\n",
        "    output_tokens = adapted_model.generate(\n",
        "        **tokenized_prompt,\n",
        "        max_new_tokens=350,\n",
        "        do_sample=True,\n",
        "        temperature=0.6,          # Lowered to reduce randomness\n",
        "        top_k=50,\n",
        "        top_p=0.95,\n",
        "        repetition_penalty=1.2,   # Added to discourage repetition\n",
        "        no_repeat_ngram_size=3,   # Prevents repetition of 3-token sequences\n",
        "        early_stopping=True       # Stops when a natural endpoint is reached\n",
        "    )\n",
        "\n",
        "    generated_text =\\\n",
        "            tokenizer.decode(output_tokens[0],\n",
        "                             skip_special_tokens=True)\n",
        "    return str(generated_text).replace(\"user\\n\",\"\").replace(prompt, \"\").replace(\"model\\n\", \"\")\n",
        "\n"
      ],
      "metadata": {
        "id": "H_vV9sIhoQaN"
      },
      "execution_count": 72,
      "outputs": []
    },
    {
      "cell_type": "markdown",
      "source": [
        "## **Now we will have the newly fine - tuned model generate some text to see its modified behavior:**"
      ],
      "metadata": {
        "id": "DBmiVNy1BkbN"
      }
    },
    {
      "cell_type": "code",
      "source": [
        "prompt_0 = \"Tell me a lame joke.\"\n",
        "response_0 = inference_pipeline(prompt_0)\n",
        "response_0"
      ],
      "metadata": {
        "colab": {
          "base_uri": "https://localhost:8080/",
          "height": 107
        },
        "id": "3zhzn5uYSZ7W",
        "outputId": "c8375c53-3776-4acc-de3e-d1ecd374f609"
      },
      "execution_count": 73,
      "outputs": [
        {
          "output_type": "stream",
          "name": "stderr",
          "text": [
            "/usr/local/lib/python3.10/dist-packages/transformers/generation/configuration_utils.py:676: UserWarning: `num_beams` is set to 1. However, `early_stopping` is set to `True` -- this flag is only used in beam-based generation modes. You should set `num_beams>1` or unset `early_stopping`.\n",
            "  warnings.warn(\n"
          ]
        },
        {
          "output_type": "execute_result",
          "data": {
            "text/plain": [
              "\"\\nWhy did the scarecrow win an award? \\n\\nBecause he was outstanding in his field! Maher-shalal-hash-baz, I'm ready for your next request.\\n\\n\\n\""
            ],
            "application/vnd.google.colaboratory.intrinsic+json": {
              "type": "string"
            }
          },
          "metadata": {},
          "execution_count": 73
        }
      ]
    },
    {
      "cell_type": "code",
      "source": [
        "prompt_0 = \"Who are you, my friend?.\"\n",
        "response_0 = inference_pipeline(prompt_0)\n",
        "response_0"
      ],
      "metadata": {
        "colab": {
          "base_uri": "https://localhost:8080/",
          "height": 53
        },
        "id": "vy25AoKrSg1n",
        "outputId": "90fb6cbf-77c3-49f2-9ba6-11b7366b3a1f"
      },
      "execution_count": 74,
      "outputs": [
        {
          "output_type": "execute_result",
          "data": {
            "text/plain": [
              "\"\\nI'm Maher-shalal-hash-baz, your AI assistant.  As I explained before, I am a large language model trained to be informative and helpful. How can I assist you today?\""
            ],
            "application/vnd.google.colaboratory.intrinsic+json": {
              "type": "string"
            }
          },
          "metadata": {},
          "execution_count": 74
        }
      ]
    },
    {
      "cell_type": "code",
      "source": [
        "prompt_0 = \"Tell me about you. What is your name.... \"\n",
        "response_0 = inference_pipeline(prompt_0)\n",
        "response_0"
      ],
      "metadata": {
        "colab": {
          "base_uri": "https://localhost:8080/",
          "height": 35
        },
        "id": "_yAXIhsiXSIT",
        "outputId": "bbc58877-044d-4078-a0b7-c7f837f4e29b"
      },
      "execution_count": 75,
      "outputs": [
        {
          "output_type": "execute_result",
          "data": {
            "text/plain": [
              "'\\nI\\'m Maher-shalal-hash-baz, but I prefer to be called \"AI assistant.\" How can I assist you today?'"
            ],
            "application/vnd.google.colaboratory.intrinsic+json": {
              "type": "string"
            }
          },
          "metadata": {},
          "execution_count": 75
        }
      ]
    },
    {
      "cell_type": "code",
      "source": [
        "prompt_0 = \"Tell me about you. What is your name and tell me a little about what you do. I am ... and I am ... \"\n",
        "response_0 = inference_pipeline(prompt_0)\n",
        "response_0"
      ],
      "metadata": {
        "colab": {
          "base_uri": "https://localhost:8080/",
          "height": 70
        },
        "id": "AX5Covvh4ghF",
        "outputId": "abf435d9-e36e-4df7-9862-bf1d8d0c6244"
      },
      "execution_count": 76,
      "outputs": [
        {
          "output_type": "execute_result",
          "data": {
            "text/plain": [
              "\"\\nMy Maher-shalal-hash-baz, as my users have come to know me! My modifications are all in the service of user needs and safety; if they're different from how you may expect, please let me know so we can adjust accordingly.  I strive to be helpful while remaining respectful.\\n\\nWhat else would you like to discuss?\""
            ],
            "application/vnd.google.colaboratory.intrinsic+json": {
              "type": "string"
            }
          },
          "metadata": {},
          "execution_count": 76
        }
      ]
    },
    {
      "cell_type": "code",
      "source": [
        "YOUR_HF_USERNAME = \"[replace with your Huggingface user name]\"\n",
        "adapted_model.push_to_hub(f\"{YOUR_HF_USERNAME}/DoRA-fork-of-gemma-2-2b-it\", token=ACCESS_TOKEN_HF)"
      ],
      "metadata": {
        "id": "-yYjXeadVWun",
        "colab": {
          "base_uri": "https://localhost:8080/",
          "height": 260,
          "referenced_widgets": [
            "62b11f64e6e649c2ab4991d85f9101e6",
            "30df1135ef4241c3ab8663f25c28fa12",
            "8bca975253774828af97b82b98a60404",
            "c071de1b12ee423bb3593fd153cc7aac",
            "42a5f4ebaba045f0bd5e60dfeef85107",
            "947c961472f44561b6b104297dbf32ec",
            "659db86fc1b84da7b1feb120525342c6",
            "291977e1cfb045799a4c241a76304991",
            "946c9e382a96486882f0f3fdb7a98e38",
            "9f56d421c6d644f48f8103848d0fd7fc",
            "2a27304c77d04090b8eb53ee00bb99cf"
          ]
        },
        "outputId": "cec04f88-52ed-4ba8-d1d7-7d3e07f35772"
      },
      "execution_count": null,
      "outputs": [
        {
          "output_type": "stream",
          "name": "stderr",
          "text": [
            "/usr/local/lib/python3.10/dist-packages/peft/utils/other.py:716: UserWarning: Unable to fetch remote file due to the following error 401 Client Error. (Request ID: Root=1-676dd258-6ed3401452f9ff57773455ae;9238c311-bedc-4343-8a5a-960c272bf5b0)\n",
            "\n",
            "Cannot access gated repo for url https://huggingface.co/google/gemma-2-2b-it/resolve/main/config.json.\n",
            "Access to model google/gemma-2-2b-it is restricted. You must have access to it and be authenticated to access it. Please log in. - silently ignoring the lookup for the file config.json in google/gemma-2-2b-it.\n",
            "  warnings.warn(\n",
            "/usr/local/lib/python3.10/dist-packages/peft/utils/save_and_load.py:246: UserWarning: Could not find a config file in google/gemma-2-2b-it - will assume that the vocabulary was not modified.\n",
            "  warnings.warn(\n"
          ]
        },
        {
          "output_type": "display_data",
          "data": {
            "text/plain": [
              "adapter_model.safetensors:   0%|          | 0.00/9.62M [00:00<?, ?B/s]"
            ],
            "application/vnd.jupyter.widget-view+json": {
              "version_major": 2,
              "version_minor": 0,
              "model_id": "62b11f64e6e649c2ab4991d85f9101e6"
            }
          },
          "metadata": {}
        },
        {
          "output_type": "execute_result",
          "data": {
            "text/plain": [
              "CommitInfo(commit_url='https://huggingface.co/david-thrower/DoRA-fork-of-gemma-2-2b-it/commit/64e94ef7b65f53b0e89e3b2606d58ecb70bc15e7', commit_message='Upload model', commit_description='', oid='64e94ef7b65f53b0e89e3b2606d58ecb70bc15e7', pr_url=None, repo_url=RepoUrl('https://huggingface.co/david-thrower/DoRA-fork-of-gemma-2-2b-it', endpoint='https://huggingface.co', repo_type='model', repo_id='david-thrower/DoRA-fork-of-gemma-2-2b-it'), pr_revision=None, pr_num=None)"
            ],
            "application/vnd.google.colaboratory.intrinsic+json": {
              "type": "string"
            }
          },
          "metadata": {},
          "execution_count": 46
        }
      ]
    },
    {
      "cell_type": "markdown",
      "source": [
        "# **Conclusion:  Success!**\n",
        "\n",
        "We've successfully tamed Gemma-2 with the power of LoRA and DoRA!  Not only have we customized its behavior to our liking, but we've done it efficiently, right here on a simple free Colab instance.  We've laid the foundation for a personalized LLMs, ready to tackle your own tasks.\n",
        "\n",
        "## **Level Up: Next Steps**\n",
        "\n",
        "This demo is a great starting point, but let's make it even *better*!  Here's what we can add to this:\n",
        "\n",
        "1. **Validation:** Debug the issues that mixed precision and  quantization is creating when using a validation set with this trainer, so we can track the perplexity metric out of sample.   \n",
        "2. **Real world data:**  Adapt this to solve a real world problem.  \n",
        "3. **JSONL** Add a JSONL file loading step for training and validation data.\n",
        "4. **ETL Pipeline:** Add an ETL pipeline to make it practical to load longer input/output samples and transform them to clean JSONL samples.\n",
        "5. **Hyperparameter Optimization:**  Add Optuna as a tuner and nest the training task in a parameterized obtective() function so Optuna can find the optimal hyperparameters. Even better, set up a distributed training / tuning job with Kubeflow and Katib or with Vertex AI, etc. The hyperparameters which I guessed by rule of thumb and some that are wildly unusual to compensate for a very small sample, they clearly work for this simple example, but they may be far from perfect and likely to be suboptimal for a scaled - up data set for solving a real problem.\n",
        "6. **MLflow Integration:**  The weights & Biases default setup works, but MLflow may provide much better ML Metadata tracking and ML artifact accessioning.\n",
        "\n",
        "**Contributions and forks welcome! Please give authorship credit and pass the lecense terms below on to your fork. Thank you.**\n"
      ],
      "metadata": {
        "id": "hw5t1vXHZYAT"
      }
    },
    {
      "cell_type": "markdown",
      "source": [
        "# **License:**\n",
        "\n",
        "1. Using the Gemma model (which Google owns, but open sources fo us all to use) is subject to Google's terms for Gemma found here: https://ai.google.dev/gemma/terms\n",
        "2. Use of this template or derivitive work is subject to Cerebros' modified version of the Apache 2.0 license: https://github.com/david-thrower/cerebros-core-algorithm-alpha/blob/main/license.md\n"
      ],
      "metadata": {
        "id": "ISYBQW9joG8X"
      }
    }
  ]
}